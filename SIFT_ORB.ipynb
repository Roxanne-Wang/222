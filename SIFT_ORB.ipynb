{
 "cells": [
  {
   "cell_type": "code",
   "execution_count": 44,
   "metadata": {},
   "outputs": [],
   "source": [
    "import cv2\n",
    "import numpy as np\n",
    "import os"
   ]
  },
  {
   "cell_type": "markdown",
   "metadata": {},
   "source": [
    "### load images"
   ]
  },
  {
   "cell_type": "code",
   "execution_count": 45,
   "metadata": {},
   "outputs": [],
   "source": [
    "fig1 = cv2.imread('bugatti1.jpg')\n",
    "fig2 = cv2.imread('bugatti2.jpg') "
   ]
  },
  {
   "cell_type": "code",
   "execution_count": 46,
   "metadata": {},
   "outputs": [
    {
     "data": {
      "text/plain": [
       "True"
      ]
     },
     "execution_count": 46,
     "metadata": {},
     "output_type": "execute_result"
    }
   ],
   "source": [
    "# 500 interst points\n",
    "fig = fig1.copy()\n",
    "sift2 = cv2.SIFT_create(nfeatures=500) \n",
    "kp_sift2 = sift2.detect(fig1, None)\n",
    "sift_500 = cv2.drawKeypoints(fig1, kp_sift2, fig, color=(255, 0, 255))\n",
    "cv2.imwrite(\"sift500.png\", sift_500)"
   ]
  },
  {
   "cell_type": "markdown",
   "metadata": {},
   "source": [
    "## Interest Point Detector"
   ]
  },
  {
   "cell_type": "markdown",
   "metadata": {},
   "source": [
    "### SIFT"
   ]
  },
  {
   "cell_type": "code",
   "execution_count": 27,
   "metadata": {},
   "outputs": [],
   "source": [
    "contrastThresholds = [0.01,0.04,0.1]\n",
    "edgeThresholds = [2,10,40]\n",
    "detect_dir = './detect/'\n",
    "if not os.path.exists(detect_dir):\n",
    "    os.mkdir(detect_dir)\n",
    "for contrastThreshold in contrastThresholds:\n",
    "    for edgeThreshold in edgeThresholds:\n",
    "        # 250 interst points\n",
    "        fig = fig1.copy()\n",
    "        sift1 = cv2.SIFT_create(nfeatures=250, contrastThreshold = contrastThreshold, edgeThreshold = edgeThreshold) \n",
    "        kp_sift1 = sift1.detect(fig1, None)\n",
    "        sift_250 = cv2.drawKeypoints(fig1, kp_sift1, fig, color=(255, 0, 255))\n",
    "        sift_250_dir = os.path.join(detect_dir,\"sift250_contrast{}_edge{}.png\".format(contrastThreshold, edgeThreshold))\n",
    "        cv2.imwrite(sift_250_dir, sift_250)\n",
    "    \n",
    "        # 500 interst points\n",
    "        fig = fig1.copy()\n",
    "        sift2 = cv2.SIFT_create(nfeatures=500, contrastThreshold = contrastThreshold, edgeThreshold = edgeThreshold) \n",
    "        kp_sift2 = sift2.detect(fig1, None)\n",
    "        sift_500 = cv2.drawKeypoints(fig1, kp_sift2, fig, color=(255, 0, 255))\n",
    "        sift_500_dir = os.path.join(detect_dir,\"sift500_contrast{}_edge{}.png\".format(contrastThreshold, edgeThreshold))\n",
    "        cv2.imwrite(sift_500_dir, sift_500)\n",
    "        \n",
    "        # all interst points\n",
    "        fig = fig1.copy()\n",
    "        sift3 = cv2.SIFT_create(contrastThreshold = contrastThreshold, edgeThreshold = edgeThreshold) \n",
    "        kp_sift3 = sift3.detect(fig1, None)\n",
    "        sift = cv2.drawKeypoints(fig1, kp_sift3, fig, color=(255, 0, 255))\n",
    "        sift_dir = os.path.join(detect_dir,\"sift_contrast{}_edge{}.png\".format(contrastThreshold, edgeThreshold))\n",
    "        cv2.imwrite(sift_dir, sift)"
   ]
  },
  {
   "cell_type": "markdown",
   "metadata": {},
   "source": [
    "### ORB"
   ]
  },
  {
   "cell_type": "code",
   "execution_count": 59,
   "metadata": {},
   "outputs": [],
   "source": [
    "edgeThresholds = [20,31,80]\n",
    "for edgeThreshold in edgeThresholds:\n",
    "    # 250 interst points\n",
    "    fig = fig1.copy()\n",
    "    orb1 = cv2.ORB_create(nfeatures=250, edgeThreshold = edgeThreshold) \n",
    "    kp_orb1 = orb1.detect(fig1, None)\n",
    "    orb_250 = cv2.drawKeypoints(fig1, kp_orb1, fig, color=(255, 0, 255))\n",
    "    orb_250_dir = os.path.join(detect_dir,\"orb250_edge{}.png\".format(edgeThreshold))\n",
    "    cv2.imwrite(orb_250_dir, orb_250)\n",
    "\n",
    "\n",
    "\n",
    "    # 500 interst points\n",
    "    fig = fig1.copy()\n",
    "    orb2 = cv2.ORB_create(nfeatures=500,  edgeThreshold = edgeThreshold) \n",
    "    kp_orb2 = orb2.detect(fig1, None)\n",
    "    orb_500 = cv2.drawKeypoints(fig1, kp_orb2, fig, color=(255, 0, 255))\n",
    "    orb_500_dir = os.path.join(detect_dir,\"orb500_edge{}.png\".format(edgeThreshold))\n",
    "    cv2.imwrite(orb_500_dir, orb_500)\n",
    "    \n",
    "    # all interst points\n",
    "    fig = fig1.copy()\n",
    "    orb3 = cv2.ORB_create(edgeThreshold = edgeThreshold) \n",
    "    kp_orb3 = orb3.detect(fig1, None)\n",
    "    orb = cv2.drawKeypoints(fig1, kp_orb3, fig, color=(255, 0, 255))\n",
    "    orb_dir = os.path.join(detect_dir,\"orb_edge{}.png\".format( edgeThreshold))\n",
    "    cv2.imwrite(orb_dir, orb)"
   ]
  },
  {
   "cell_type": "markdown",
   "metadata": {},
   "source": [
    "## matching"
   ]
  },
  {
   "cell_type": "markdown",
   "metadata": {},
   "source": [
    "### SIFT"
   ]
  },
  {
   "cell_type": "code",
   "execution_count": 29,
   "metadata": {},
   "outputs": [],
   "source": [
    "sift = cv2.SIFT_create() "
   ]
  },
  {
   "cell_type": "markdown",
   "metadata": {},
   "source": [
    "### 获取图像的特征点及sift特征向量"
   ]
  },
  {
   "cell_type": "code",
   "execution_count": 30,
   "metadata": {},
   "outputs": [],
   "source": [
    "kp1, des1 = sift.detectAndCompute(fig1, None)\n",
    "kp2, des2 = sift.detectAndCompute(fig2, None)"
   ]
  },
  {
   "cell_type": "markdown",
   "metadata": {},
   "source": [
    "#### 特征点数目显示"
   ]
  },
  {
   "cell_type": "code",
   "execution_count": 31,
   "metadata": {},
   "outputs": [
    {
     "name": "stdout",
     "output_type": "stream",
     "text": [
      "car1  特征点数目： 5222\n",
      "car2  特征点数目： 5890\n"
     ]
    }
   ],
   "source": [
    "print('car1  特征点数目：', des1.shape[0])\n",
    "print('car2  特征点数目：', des2.shape[0])"
   ]
  },
  {
   "cell_type": "markdown",
   "metadata": {},
   "source": [
    "#### 举例说明kp中的参数信息"
   ]
  },
  {
   "cell_type": "code",
   "execution_count": 32,
   "metadata": {},
   "outputs": [
    {
     "name": "stdout",
     "output_type": "stream",
     "text": [
      "关键点 0\n",
      "数据类型: <class 'cv2.KeyPoint'>\n",
      "关键点坐标: (2.3029558658599854, 704.9844970703125)\n",
      "邻域直径: 1.956155776977539\n",
      "方向: 58.917327880859375\n",
      "所在的图像金字塔的组: 6160895\n",
      "关键点 1\n",
      "数据类型: <class 'cv2.KeyPoint'>\n",
      "关键点坐标: (2.3029558658599854, 704.9844970703125)\n",
      "邻域直径: 1.956155776977539\n",
      "方向: 227.74954223632812\n",
      "所在的图像金字塔的组: 6160895\n"
     ]
    }
   ],
   "source": [
    "for i in range(2):\n",
    "    print(\"关键点\", i)\n",
    "    print(\"数据类型:\", type(kp1[i]))\n",
    "    print(\"关键点坐标:\", kp1[i].pt)\n",
    "    print(\"邻域直径:\", kp1[i].size)\n",
    "    print(\"方向:\", kp1[i].angle)\n",
    "    print(\"所在的图像金字塔的组:\", kp1[i].octave)"
   ]
  },
  {
   "cell_type": "code",
   "execution_count": 33,
   "metadata": {},
   "outputs": [
    {
     "name": "stdout",
     "output_type": "stream",
     "text": [
      "(850, 1134, 3)\n",
      "(850, 1134, 3)\n"
     ]
    }
   ],
   "source": [
    "# 绘制特征点并将其显示为红色圆圈\n",
    "sift_car1 = cv2.drawKeypoints(fig1, kp1, fig1, color=(255, 0, 255))\n",
    "sift_car2 = cv2.drawKeypoints(fig2, kp2, fig2, color=(255, 0, 255))\n",
    "print(sift_car1.shape)\n",
    "print(sift_car2.shape)"
   ]
  },
  {
   "cell_type": "code",
   "execution_count": 34,
   "metadata": {},
   "outputs": [
    {
     "name": "stdout",
     "output_type": "stream",
     "text": [
      "特征点绘制图像已保存\n"
     ]
    }
   ],
   "source": [
    "sift_cat1 = np.hstack((sift_car1, sift_car2))        # 对提取特征点后的图像进行横向拼接\n",
    "cv2.imwrite(\"sift_car.png\", sift_cat1)\n",
    "print('特征点绘制图像已保存')"
   ]
  },
  {
   "cell_type": "markdown",
   "metadata": {},
   "source": [
    "### 特征点匹配"
   ]
  },
  {
   "cell_type": "code",
   "execution_count": 35,
   "metadata": {},
   "outputs": [
    {
     "name": "stdout",
     "output_type": "stream",
     "text": [
      "用于 原图和旋转图 图像匹配的所有特征点数目： 5222\n"
     ]
    }
   ],
   "source": [
    "# 特征点匹配\n",
    "# K近邻算法求取在空间中距离最近的K个数据点，并将这些数据点归为一类\n",
    "bf = cv2.BFMatcher()\n",
    "matches_sift = bf.knnMatch(des1, des2, k=2)\n",
    "print('用于 原图和旋转图 图像匹配的所有特征点数目：', len(matches_sift))\n"
   ]
  },
  {
   "cell_type": "code",
   "execution_count": 36,
   "metadata": {},
   "outputs": [],
   "source": [
    "ratio1 = 0.5\n",
    "good1 = []"
   ]
  },
  {
   "cell_type": "code",
   "execution_count": 37,
   "metadata": {},
   "outputs": [],
   "source": [
    "for m1, n1 in matches_sift:\n",
    "    # 如果最接近和次接近的比值大于一个既定的值，那么我们保留这个最接近的值，认为它和其匹配的点为good_match\n",
    "    if m1.distance < ratio1 * n1.distance:\n",
    "        good1.append([m1])"
   ]
  },
  {
   "cell_type": "code",
   "execution_count": 38,
   "metadata": {},
   "outputs": [
    {
     "data": {
      "text/plain": [
       "True"
      ]
     },
     "execution_count": 38,
     "metadata": {},
     "output_type": "execute_result"
    }
   ],
   "source": [
    "match_result_sift = cv2.drawMatchesKnn(fig1, kp1, fig2, kp2, good1, None, flags=2)\n",
    "cv2.imwrite(\"match_result_sift.png\", match_result_sift)"
   ]
  },
  {
   "cell_type": "markdown",
   "metadata": {},
   "source": [
    "## ORB"
   ]
  },
  {
   "cell_type": "code",
   "execution_count": 39,
   "metadata": {},
   "outputs": [],
   "source": [
    "fig1 = cv2.imread('bugatti1.jpg')\n",
    "fig2 = cv2.imread('bugatti2.jpg') "
   ]
  },
  {
   "cell_type": "markdown",
   "metadata": {},
   "source": [
    "### 创建ORB 获取图像的特征点及ORB特征向量"
   ]
  },
  {
   "cell_type": "code",
   "execution_count": 40,
   "metadata": {},
   "outputs": [],
   "source": [
    "orb = cv2.ORB_create()\n",
    "# find the keypoints and descriptors with ORB\n",
    "kp1_orb, des1_orb = orb.detectAndCompute(fig1, None)\n",
    "kp2_orb, des2_orb = orb.detectAndCompute(fig2, None)\n"
   ]
  },
  {
   "cell_type": "code",
   "execution_count": 41,
   "metadata": {},
   "outputs": [
    {
     "name": "stdout",
     "output_type": "stream",
     "text": [
      "特征点绘制图像已保存\n"
     ]
    }
   ],
   "source": [
    "# Draw feature points and display them as red circles\n",
    "orb_car1 = cv2.drawKeypoints(fig1, kp1_orb, fig1, color=(255, 0, 255))\n",
    "orb_car2 = cv2.drawKeypoints(fig2, kp2_orb, fig2, color=(255, 0, 255))\n",
    "orb_cat = np.hstack((orb_car1, orb_car2))        # 对提取特征点后的图像进行横向拼接\n",
    "cv2.imwrite(\"orb_car.png\", orb_cat)\n",
    "print('特征点绘制图像已保存')"
   ]
  },
  {
   "cell_type": "markdown",
   "metadata": {},
   "source": [
    "### 特征点匹配"
   ]
  },
  {
   "cell_type": "code",
   "execution_count": 42,
   "metadata": {},
   "outputs": [
    {
     "data": {
      "text/plain": [
       "True"
      ]
     },
     "execution_count": 42,
     "metadata": {},
     "output_type": "execute_result"
    }
   ],
   "source": [
    "# create BFMatcher object\n",
    "bf = cv2.BFMatcher(cv2.NORM_HAMMING, crossCheck=True)\n",
    "# Match descriptors.\n",
    "matches = bf.match(des1_orb,des2_orb)\n",
    "# Sort them in the order of their distance.\n",
    "matches = sorted(matches, key = lambda x:x.distance)\n",
    "# Draw first 10 matches.\n",
    "img3 = cv2.drawMatches(fig1,kp1_orb,fig2,kp2_orb,matches,None, flags=2)\n",
    "cv2.imwrite(\"match_result_orb.png\", img3)"
   ]
  }
 ],
 "metadata": {
  "kernelspec": {
   "display_name": "Python 3.9.13 ('py39')",
   "language": "python",
   "name": "python3"
  },
  "language_info": {
   "codemirror_mode": {
    "name": "ipython",
    "version": 3
   },
   "file_extension": ".py",
   "mimetype": "text/x-python",
   "name": "python",
   "nbconvert_exporter": "python",
   "pygments_lexer": "ipython3",
   "version": "3.9.13"
  },
  "orig_nbformat": 4,
  "vscode": {
   "interpreter": {
    "hash": "4f5259f9388970258c21b7e3876b0e20197e2a92ab2968debc38cd8d196bb590"
   }
  }
 },
 "nbformat": 4,
 "nbformat_minor": 2
}
